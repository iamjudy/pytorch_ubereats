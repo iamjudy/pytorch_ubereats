{
 "cells": [
  {
   "cell_type": "code",
   "execution_count": 1,
   "metadata": {},
   "outputs": [
    {
     "name": "stderr",
     "output_type": "stream",
     "text": [
      "Building prefix dict from C:\\Users\\Yuf\\ubereat\\dict\\dict.txt.big ...\n",
      "Loading model from cache C:\\Users\\Yuf\\AppData\\Local\\Temp\\jieba.u60f3267b4f25322ffab098bcdc566c27.cache\n",
      "Loading model cost 0.963 seconds.\n",
      "Prefix dict has been built successfully.\n"
     ]
    },
    {
     "name": "stdout",
     "output_type": "stream",
     "text": [
      "finish\n"
     ]
    }
   ],
   "source": [
    "# -*- coding: UTF-8 -*-\n",
    "\"\"\"\n",
    "make_w2v_set.py\n",
    "轉換資料集到句子向量\n",
    "save as pickle\n",
    "\"\"\"\n",
    "from W2V_SV import W2VS\n",
    "import pickle\n",
    "import csv\n",
    "\n",
    "if __name__ == \"__main__\":\n",
    "    w2vs = W2VS()\n",
    "    sentencesDict = {}\n",
    "    with open('dataset/waimai_10k_tw.csv',newline='',encoding=\"utf-8\") as f:\n",
    "        rows = csv.reader(f)\n",
    "        for i,row in enumerate(rows):\n",
    "            if(row[0] == 'label'):\n",
    "                continue\n",
    "            line = row[1].strip('\\n')\n",
    "            sVec = w2vs.getSenVec(line)\n",
    "            # sentencesDict.append(sVec)\n",
    "            sentencesDict[str(i-1)] = (sVec,row[0])\n",
    "    with open('dataset/waimai_10k_tw.pkl','wb') as f:\n",
    "        pickle.dump(sentencesDict,f)\n",
    "    print(\"finish\")"
   ]
  },
  {
   "cell_type": "code",
   "execution_count": null,
   "metadata": {},
   "outputs": [],
   "source": []
  }
 ],
 "metadata": {
  "kernelspec": {
   "display_name": "Python 3",
   "language": "python",
   "name": "python3"
  },
  "language_info": {
   "codemirror_mode": {
    "name": "ipython",
    "version": 3
   },
   "file_extension": ".py",
   "mimetype": "text/x-python",
   "name": "python",
   "nbconvert_exporter": "python",
   "pygments_lexer": "ipython3",
   "version": "3.6.3"
  }
 },
 "nbformat": 4,
 "nbformat_minor": 4
}
