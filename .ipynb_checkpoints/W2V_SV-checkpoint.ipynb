{
 "cells": [
  {
   "cell_type": "code",
   "execution_count": null,
   "metadata": {},
   "outputs": [],
   "source": [
    "\"\"\"\n",
    "W2V_SV.py\n",
    "使用預訓練的w2v模型取得句子向量\n",
    "default size : 200\n",
    "\"\"\"\n",
    "\n",
    "from gensim import models\n",
    "import jieba\n",
    "import numpy as np\n",
    "class W2VS():\n",
    "    def __init__(self):\n",
    "        \"\"\"\n",
    "        初始化加載\n",
    "        \"\"\"\n",
    "        jieba.set_dictionary('dict/dict.txt.big')\n",
    "        jieba.load_userdict('dict/my_dict')\n",
    "        jieba.initialize()\n",
    "        self.model = models.Word2Vec.load('w2vmodel/word2vec.model')\n",
    "    \n",
    "    def getSenVec(self,sentence):\n",
    "        \"\"\"\n",
    "        取得單詞向量\n",
    "        單詞向量相加平均\n",
    "        返回向量(句子向量)\n",
    "        \"\"\"\n",
    "        senCut = list(jieba.cut(sentence))\n",
    "        lenOfCut = len(senCut)\n",
    "        vecSum = np.zeros(200)\n",
    "    \n",
    "        for i in senCut:\n",
    "            try:\n",
    "                vec = self.model.wv.__getitem__(i)\n",
    "                vecSum = np.add(vecSum, vec)\n",
    "            except Exception as e:\n",
    "                # print(e)\n",
    "                lenOfCut -= 1\n",
    "                continue\n",
    "        if(lenOfCut == 0 ):\n",
    "            return np.array([0]*200)\n",
    "        divisor = np.array([lenOfCut]*200)\n",
    "        return np.divide(vecSum, divisor)\n",
    "        \n",
    "if __name__ == \"__main__\":\n",
    "    w2vs = W2VS()\n",
    "    print(w2vs.getSenVec(\"今天天氣真好\"))\n",
    "\n",
    "    "
   ]
  },
  {
   "cell_type": "code",
   "execution_count": null,
   "metadata": {},
   "outputs": [],
   "source": []
  }
 ],
 "metadata": {
  "kernelspec": {
   "display_name": "Python 3",
   "language": "python",
   "name": "python3"
  },
  "language_info": {
   "codemirror_mode": {
    "name": "ipython",
    "version": 3
   },
   "file_extension": ".py",
   "mimetype": "text/x-python",
   "name": "python",
   "nbconvert_exporter": "python",
   "pygments_lexer": "ipython3",
   "version": "3.6.3"
  }
 },
 "nbformat": 4,
 "nbformat_minor": 4
}
